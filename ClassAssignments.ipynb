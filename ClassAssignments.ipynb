{
  "nbformat": 4,
  "nbformat_minor": 0,
  "metadata": {
    "colab": {
      "provenance": [],
      "authorship_tag": "ABX9TyMwmp5diNuZEiLKEPY3KMzl",
      "include_colab_link": true
    },
    "kernelspec": {
      "name": "python3",
      "display_name": "Python 3"
    },
    "language_info": {
      "name": "python"
    }
  },
  "cells": [
    {
      "cell_type": "markdown",
      "metadata": {
        "id": "view-in-github",
        "colab_type": "text"
      },
      "source": [
        "<a href=\"https://colab.research.google.com/github/jxr4276/Bte-320-in-class-assignments-/blob/main/ClassAssignments.ipynb\" target=\"_parent\"><img src=\"https://colab.research.google.com/assets/colab-badge.svg\" alt=\"Open In Colab\"/></a>"
      ]
    },
    {
      "cell_type": "code",
      "execution_count": null,
      "metadata": {
        "id": "AlfyIy7gSuD6",
        "colab": {
          "base_uri": "https://localhost:8080/"
        },
        "outputId": "c12a7bcf-b5c4-46bb-f153-63344097a51b"
      },
      "outputs": [
        {
          "output_type": "stream",
          "name": "stdout",
          "text": [
            "244.92000000000002\n"
          ]
        }
      ],
      "source": [
        "p = 3.14\n",
        "h = 10\n",
        "r = 3\n",
        "\n",
        "area = 2*p*r**2 + 2*p*r*h\n",
        "print( area)"
      ]
    },
    {
      "cell_type": "code",
      "source": [
        "p1=input(\" choose rock,paper,scissors\")\n",
        "p2=input(\" choose rock,paper,scissors\")\n",
        "if p1==p2:\n",
        "  print(\"Draw\")\n",
        "elif (p1== \"rock\" and p2== \"scissors\") or ( p1== \"scissors\" and p2== \"paper\") or (p1== \"paper\" and p2== \"rock\"):\n",
        "    print(\"p1 wins\")\n",
        "else:\n",
        "    print(\"p2 wins\")"
      ],
      "metadata": {
        "colab": {
          "base_uri": "https://localhost:8080/"
        },
        "id": "SfoplPXFBMsL",
        "outputId": "5d8e9af2-9416-4a4a-f8b1-b2d15173f79b"
      },
      "execution_count": 1,
      "outputs": [
        {
          "output_type": "stream",
          "name": "stdout",
          "text": [
            " choose rock,paper,scissorsrock \n",
            " choose rock,paper,scissorspaper\n",
            "p2 wins\n"
          ]
        }
      ]
    },
    {
      "cell_type": "code",
      "source": [
        "n1=float(input(\"choose 1\"))\n",
        "n2=float(input(\"choose 2\"))\n",
        "symbol= input(\"choose operation\")\n",
        "if symbol== \"+\":\n",
        "  print(n1+n2)\n",
        "elif symbol== \"-\":\n",
        "  print(n1-n2)\n",
        "elif symbol==\"*\":\n",
        "  print(n1*n2)\n",
        "elif symbol==\"/\":\n",
        "    print(n1/n2)\n",
        "elif symbol==\"**\":\n",
        "  print(n1**n2)"
      ],
      "metadata": {
        "colab": {
          "base_uri": "https://localhost:8080/"
        },
        "id": "m-ZXihSCBVeT",
        "outputId": "33457f6f-5b1e-4c88-e4d2-e8477fb60cb8"
      },
      "execution_count": 3,
      "outputs": [
        {
          "output_type": "stream",
          "name": "stdout",
          "text": [
            "choose 11\n",
            "choose 22\n",
            "choose operation*\n",
            "2.0\n"
          ]
        }
      ]
    }
  ]
}