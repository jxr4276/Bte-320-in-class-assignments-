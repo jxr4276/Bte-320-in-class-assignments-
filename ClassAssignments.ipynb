{
  "nbformat": 4,
  "nbformat_minor": 0,
  "metadata": {
    "colab": {
      "provenance": [],
      "authorship_tag": "ABX9TyM8VTnJeEX35obTcWODDQjZ",
      "include_colab_link": true
    },
    "kernelspec": {
      "name": "python3",
      "display_name": "Python 3"
    },
    "language_info": {
      "name": "python"
    }
  },
  "cells": [
    {
      "cell_type": "markdown",
      "metadata": {
        "id": "view-in-github",
        "colab_type": "text"
      },
      "source": [
        "<a href=\"https://colab.research.google.com/github/jxr4276/Bte-320-in-class-assignments-/blob/main/ClassAssignments.ipynb\" target=\"_parent\"><img src=\"https://colab.research.google.com/assets/colab-badge.svg\" alt=\"Open In Colab\"/></a>"
      ]
    },
    {
      "cell_type": "code",
      "execution_count": null,
      "metadata": {
        "id": "AlfyIy7gSuD6",
        "colab": {
          "base_uri": "https://localhost:8080/"
        },
        "outputId": "c12a7bcf-b5c4-46bb-f153-63344097a51b"
      },
      "outputs": [
        {
          "output_type": "stream",
          "name": "stdout",
          "text": [
            "244.92000000000002\n"
          ]
        }
      ],
      "source": [
        "p = 3.14\n",
        "h = 10\n",
        "r = 3\n",
        "\n",
        "area = 2*p*r**2 + 2*p*r*h\n",
        "print( area)"
      ]
    }
  ]
}