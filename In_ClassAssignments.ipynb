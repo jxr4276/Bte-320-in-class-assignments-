{
  "nbformat": 4,
  "nbformat_minor": 0,
  "metadata": {
    "colab": {
      "provenance": [],
      "authorship_tag": "ABX9TyNB686qjB5WF/X8kxLmFi2h",
      "include_colab_link": true
    },
    "kernelspec": {
      "name": "python3",
      "display_name": "Python 3"
    },
    "language_info": {
      "name": "python"
    }
  },
  "cells": [
    {
      "cell_type": "markdown",
      "metadata": {
        "id": "view-in-github",
        "colab_type": "text"
      },
      "source": [
        "<a href=\"https://colab.research.google.com/github/jxr4276/Bte-320-in-class-assignments-/blob/main/In_ClassAssignments.ipynb\" target=\"_parent\"><img src=\"https://colab.research.google.com/assets/colab-badge.svg\" alt=\"Open In Colab\"/></a>"
      ]
    },
    {
      "cell_type": "code",
      "execution_count": null,
      "metadata": {
        "id": "AlfyIy7gSuD6",
        "colab": {
          "base_uri": "https://localhost:8080/"
        },
        "outputId": "c12a7bcf-b5c4-46bb-f153-63344097a51b"
      },
      "outputs": [
        {
          "output_type": "stream",
          "name": "stdout",
          "text": [
            "244.92000000000002\n"
          ]
        }
      ],
      "source": [
        "p = 3.14\n",
        "h = 10\n",
        "r = 3\n",
        "\n",
        "area = 2*p*r**2 + 2*p*r*h\n",
        "print( area)"
      ]
    },
    {
      "cell_type": "code",
      "source": [
        "p1=input(\" choose rock,paper,scissors\")\n",
        "p2=input(\" choose rock,paper,scissors\")\n",
        "if p1==p2:\n",
        "  print(\"Draw\")\n",
        "elif (p1== \"rock\" and p2== \"scissors\") or ( p1== \"scissors\" and p2== \"paper\") or (p1== \"paper\" and p2== \"rock\"):\n",
        "    print(\"p1 wins\")\n",
        "else:\n",
        "    print(\"p2 wins\")"
      ],
      "metadata": {
        "colab": {
          "base_uri": "https://localhost:8080/"
        },
        "id": "SfoplPXFBMsL",
        "outputId": "5d8e9af2-9416-4a4a-f8b1-b2d15173f79b"
      },
      "execution_count": null,
      "outputs": [
        {
          "output_type": "stream",
          "name": "stdout",
          "text": [
            " choose rock,paper,scissorsrock \n",
            " choose rock,paper,scissorspaper\n",
            "p2 wins\n"
          ]
        }
      ]
    },
    {
      "cell_type": "code",
      "source": [
        "n1=float(input(\"choose 1\"))\n",
        "n2=float(input(\"choose 2\"))\n",
        "symbol= input(\"choose operation\")\n",
        "if symbol== \"+\":\n",
        "  print(n1+n2)\n",
        "elif symbol== \"-\":\n",
        "  print(n1-n2)\n",
        "elif symbol==\"*\":\n",
        "  print(n1*n2)\n",
        "elif symbol==\"/\":\n",
        "    print(n1/n2)\n",
        "elif symbol==\"**\":\n",
        "  print(n1**n2)"
      ],
      "metadata": {
        "colab": {
          "base_uri": "https://localhost:8080/"
        },
        "id": "m-ZXihSCBVeT",
        "outputId": "33457f6f-5b1e-4c88-e4d2-e8477fb60cb8"
      },
      "execution_count": null,
      "outputs": [
        {
          "output_type": "stream",
          "name": "stdout",
          "text": [
            "choose 11\n",
            "choose 22\n",
            "choose operation*\n",
            "2.0\n"
          ]
        }
      ]
    },
    {
      "cell_type": "code",
      "source": [
        "!pip install ColabTurtlePlus"
      ],
      "metadata": {
        "colab": {
          "base_uri": "https://localhost:8080/"
        },
        "id": "f52sVwl0WIUp",
        "outputId": "22fd3a26-89ce-4c77-8925-0f8ef1861361"
      },
      "execution_count": null,
      "outputs": [
        {
          "output_type": "stream",
          "name": "stdout",
          "text": [
            "Collecting ColabTurtlePlus\n",
            "  Downloading ColabTurtlePlus-2.0.1-py3-none-any.whl.metadata (10 kB)\n",
            "Downloading ColabTurtlePlus-2.0.1-py3-none-any.whl (31 kB)\n",
            "Installing collected packages: ColabTurtlePlus\n",
            "Successfully installed ColabTurtlePlus-2.0.1\n"
          ]
        }
      ]
    },
    {
      "cell_type": "code",
      "source": [
        "from ColabTurtlePlus.Turtle import *\n",
        "clearscreen ()\n",
        "\n",
        "reset = True\n",
        "\n",
        "\n",
        "if reset:\n",
        "  clear()\n",
        "\n",
        "color('Black', 'Green')\n",
        "shape ('blank')\n",
        "begin_fill()\n",
        "jumpto (0,0)\n",
        "\n",
        "#for i in range (4):\n",
        "# forward (100)\n",
        "# left (90)\n",
        "i= 0\n",
        "while i < 4:\n",
        "    forward(100)\n",
        "    left(90)\n",
        "    i= i+1\n",
        "\n",
        "penup()\n",
        "end_fill()"
      ],
      "metadata": {
        "colab": {
          "base_uri": "https://localhost:8080/",
          "height": 641
        },
        "id": "p0ivjNWZM1wX",
        "outputId": "44db505b-3ddc-443c-9b7f-dfaa1eb43d82"
      },
      "execution_count": null,
      "outputs": [
        {
          "output_type": "display_data",
          "data": {
            "text/plain": [
              "<IPython.core.display.HTML object>"
            ],
            "text/html": [
              "\n",
              "      <svg width=\"800\" height=\"600\">  \n",
              "        <rect width=\"100%\" height=\"100%\" style=\"fill:white;stroke:;stroke-width:1\"/>\n",
              "        \n",
              "        \n",
              "        <path fill-rule=\"evenodd\" fill-opacity=\"1\" d=\"M 400.0 300.0  L 400.0 300.0  L 500.0 300.0  L 500.0 200.0  L 400.0 200.0  L 400.0 300.0 \" stroke-linecap=\"round\" style=\"stroke:none;stroke-width:1\" fill=\"green\" />\n",
              "        \n",
              "        \n",
              "        \n",
              "      </svg>\n",
              "    "
            ]
          },
          "metadata": {}
        }
      ]
    },
    {
      "cell_type": "markdown",
      "source": [
        "Spet 12th\n",
        "Start - Nstep> Stop\n",
        "range ( 20,5,-5) Middle is the stop value 20-5=15"
      ],
      "metadata": {
        "id": "YZHeaGWzQBMj"
      }
    },
    {
      "cell_type": "code",
      "source": [
        "for i in range (0,11,2):\n",
        "  print(i, end= ' ')"
      ],
      "metadata": {
        "colab": {
          "base_uri": "https://localhost:8080/"
        },
        "id": "z98BELD6P9kf",
        "outputId": "125a1fc4-5194-493d-a8c3-3476ccb4c82a"
      },
      "execution_count": null,
      "outputs": [
        {
          "output_type": "stream",
          "name": "stdout",
          "text": [
            "0 2 4 6 8 10 "
          ]
        }
      ]
    },
    {
      "cell_type": "markdown",
      "source": [
        "if u want it ti stop at 10 +1 to 11 so it cound zero as an integer\n",
        "end paramater is the last chaarcter displayed on the screen."
      ],
      "metadata": {
        "id": "Wnnrjvb4OPmv"
      }
    },
    {
      "cell_type": "code",
      "source": [
        "while 1 < 2:\n",
        "  print('Hi')"
      ],
      "metadata": {
        "id": "NeHa7nFXTjiJ"
      },
      "execution_count": null,
      "outputs": []
    },
    {
      "cell_type": "code",
      "source": [
        "currentlyPlaying = input(\"Would you like to play a Game (Yes/No)\")\n",
        "\n",
        "while currentlyPlaying == \"Yes\":\n",
        "  P1= input(\"Choose Rock, Paper, or Scissors\")\n",
        "  P2= input(\"Choose Rock, Paper, or Scissors\")\n",
        "\n",
        "  if ( P1== P2):\n",
        "    print (\"Tie\")\n",
        "\n",
        "  elif (P1== \"Paper\" and P2== \"Rock\"):\n",
        "    print (\"Player 1 wins\")\n",
        "\n",
        "  elif ( P1== \"Scissors\" and P2== \"Paper\"):\n",
        "    print( \" Player 1 wins \")\n",
        "\n",
        "  elif (P1== \"Rock\" and P2== \"Scissors\"):\n",
        "    print(\"Player 1 wins\")\n",
        "\n",
        "  else:\n",
        "    print (\"Player 2 wins\")\n",
        "  currentlyPlaying = input(\"Would you like to play a Game ( Yes/No)\")\n"
      ],
      "metadata": {
        "colab": {
          "base_uri": "https://localhost:8080/"
        },
        "id": "4w8cTXvmS5Yy",
        "outputId": "4659015f-52be-4b9d-822f-787133545be9"
      },
      "execution_count": null,
      "outputs": [
        {
          "name": "stdout",
          "output_type": "stream",
          "text": [
            "Would you like to play a Game (Yes/No)Yes\n",
            "Choose Rock, Paper, or ScissorsPaper\n",
            "Choose Rock, Paper, or ScissorsRock\n",
            "Player 1 wins\n",
            "Would you like to play a Game ( Yes/No)NO\n"
          ]
        }
      ]
    },
    {
      "cell_type": "code",
      "source": [
        "ticketPrice = 10\n",
        "fixedCost = 200\n",
        "standardAttendees = 20\n",
        "\n",
        "for ad in range(0, 201, 25):\n",
        "    profit = ticketPrice * (standardAttendees + 2 * ad ** 0.5) - fixedCost - ad\n",
        "    print(ad, profit)"
      ],
      "metadata": {
        "colab": {
          "base_uri": "https://localhost:8080/"
        },
        "id": "nm0z0n-PStov",
        "outputId": "cb873847-b4d3-44cf-e91e-0a08617730ee"
      },
      "execution_count": null,
      "outputs": [
        {
          "output_type": "stream",
          "name": "stdout",
          "text": [
            "0 0.0\n",
            "25 75.0\n",
            "50 91.42135623730951\n",
            "75 98.20508075688781\n",
            "100 100.0\n",
            "125 98.60679774997897\n",
            "150 94.94897427831779\n",
            "175 89.57513110645903\n",
            "200 82.84271247461902\n"
          ]
        }
      ]
    },
    {
      "cell_type": "markdown",
      "source": [
        "Movie Theatre Problem"
      ],
      "metadata": {
        "id": "eRtGOEDyMP3h"
      }
    },
    {
      "cell_type": "code",
      "source": [],
      "metadata": {
        "id": "vVGbb_IwR3xo"
      },
      "execution_count": null,
      "outputs": []
    },
    {
      "cell_type": "markdown",
      "source": [
        "Need dictionary In class Assingment"
      ],
      "metadata": {
        "id": "dOc-6-rlSfSl"
      }
    },
    {
      "cell_type": "code",
      "source": [
        "for key in months. keys():\n",
        "  print( value, end= ' ')"
      ],
      "metadata": {
        "colab": {
          "base_uri": "https://localhost:8080/",
          "height": 162
        },
        "id": "8t3Vh6hGSzn3",
        "outputId": "5171308f-3a50-4dbc-913a-56297e3a96f7"
      },
      "execution_count": null,
      "outputs": [
        {
          "output_type": "error",
          "ename": "NameError",
          "evalue": "name 'months' is not defined",
          "traceback": [
            "\u001b[0;31m---------------------------------------------------------------------------\u001b[0m",
            "\u001b[0;31mNameError\u001b[0m                                 Traceback (most recent call last)",
            "\u001b[0;32m<ipython-input-1-8866ce057ccd>\u001b[0m in \u001b[0;36m<cell line: 1>\u001b[0;34m()\u001b[0m\n\u001b[0;32m----> 1\u001b[0;31m \u001b[0;32mfor\u001b[0m \u001b[0mkey\u001b[0m \u001b[0;32min\u001b[0m \u001b[0mmonths\u001b[0m\u001b[0;34m.\u001b[0m \u001b[0mkeys\u001b[0m\u001b[0;34m(\u001b[0m\u001b[0;34m)\u001b[0m\u001b[0;34m:\u001b[0m\u001b[0;34m\u001b[0m\u001b[0;34m\u001b[0m\u001b[0m\n\u001b[0m\u001b[1;32m      2\u001b[0m   \u001b[0mprint\u001b[0m\u001b[0;34m(\u001b[0m \u001b[0mvalue\u001b[0m\u001b[0;34m,\u001b[0m \u001b[0mend\u001b[0m\u001b[0;34m=\u001b[0m \u001b[0;34m' '\u001b[0m\u001b[0;34m)\u001b[0m\u001b[0;34m\u001b[0m\u001b[0;34m\u001b[0m\u001b[0m\n",
            "\u001b[0;31mNameError\u001b[0m: name 'months' is not defined"
          ]
        }
      ]
    },
    {
      "cell_type": "code",
      "source": [
        "def range_check(number, low, high):\n",
        "    if low <= number <= high:\n",
        "        print(f\"{number} is in the range between {low} and {high}\")\n",
        "    else:\n",
        "        print(f\"{number} is NOT in the range between {low} and {high}\")"
      ],
      "metadata": {
        "id": "i0vXwd8YqRws"
      },
      "execution_count": null,
      "outputs": []
    },
    {
      "cell_type": "code",
      "source": [
        "def calcfee(hours):\n",
        "    fee = 5 + hours * 2.5\n",
        "    return fee\n",
        "\n",
        "h = int( input (\"enter hours\"))\n",
        "fee = calcfee(h)\n",
        "print(fee)"
      ],
      "metadata": {
        "colab": {
          "base_uri": "https://localhost:8080/"
        },
        "id": "7GX6Hpi6q1Sx",
        "outputId": "d182420a-256c-42e5-a108-cddc5b9c4de2"
      },
      "execution_count": null,
      "outputs": [
        {
          "output_type": "stream",
          "name": "stdout",
          "text": [
            "enter hours4 \n",
            "15.0\n"
          ]
        }
      ]
    },
    {
      "cell_type": "code",
      "source": [
        "def calcfee(hours, decimals=2):\n",
        "    fee = 5 + hours * 2.5\n",
        "    fee = round(fee, decimals)\n",
        "    return fee\n",
        "\n",
        "def displayfee(fee):\n",
        "    print(f\"fee is {fee}\")\n",
        "\n",
        "h = int(input(\"Enter hours: \"))\n",
        "fee = calcfee(h)\n",
        "displayfee(fee)"
      ],
      "metadata": {
        "colab": {
          "base_uri": "https://localhost:8080/"
        },
        "id": "lVLa2ZaLuYrn",
        "outputId": "703dc898-a485-4354-d2c3-a1bbf4e668de"
      },
      "execution_count": null,
      "outputs": [
        {
          "output_type": "stream",
          "name": "stdout",
          "text": [
            "Enter hours: 5\n",
            "fee is 17.5\n"
          ]
        }
      ]
    },
    {
      "cell_type": "code",
      "source": [
        "class Student:\n",
        "  def __init__(self, name, number):\n",
        "    self.name = name\n",
        "    self.number = number\n",
        "\n",
        "s1 = Student(\"James Bond\", '007')\n",
        "s2 = Student(\"Clark Kent\", '333')"
      ],
      "metadata": {
        "id": "k7J0y1S6o1fg"
      },
      "execution_count": null,
      "outputs": []
    },
    {
      "cell_type": "code",
      "source": [
        "s1.name\n"
      ],
      "metadata": {
        "colab": {
          "base_uri": "https://localhost:8080/",
          "height": 35
        },
        "id": "W7cp9Haqs8eK",
        "outputId": "b968a2bf-cd9b-4225-ba81-e72cf7bb534d"
      },
      "execution_count": null,
      "outputs": [
        {
          "output_type": "execute_result",
          "data": {
            "text/plain": [
              "'James Bond'"
            ],
            "application/vnd.google.colaboratory.intrinsic+json": {
              "type": "string"
            }
          },
          "metadata": {},
          "execution_count": 10
        }
      ]
    },
    {
      "cell_type": "code",
      "source": [
        "s1.number\n"
      ],
      "metadata": {
        "colab": {
          "base_uri": "https://localhost:8080/",
          "height": 35
        },
        "id": "o7E-NO8AuBsc",
        "outputId": "326a8fc7-a438-4175-c4ff-2591a2f57116"
      },
      "execution_count": null,
      "outputs": [
        {
          "output_type": "execute_result",
          "data": {
            "text/plain": [
              "'007'"
            ],
            "application/vnd.google.colaboratory.intrinsic+json": {
              "type": "string"
            }
          },
          "metadata": {},
          "execution_count": 13
        }
      ]
    },
    {
      "cell_type": "code",
      "source": [
        "#Months2Numbers dictionary\n",
        "months = {}\n",
        "\n",
        "names = [\"Jan\", \"Feb\", \"Mar\", \"Apr\", \"May\", \"Jun\", \"Jul\", \"Aug\", \"Sep\", \"Oct\", \"Nov\", \"Dec\"]\n",
        "numbers = [1,2,3,4,5,6,7,8,9,10,11,12]\n",
        "\n",
        "for i in range(len(numbers)):\n",
        "  months[numbers[i]] = names[i]\n",
        "months"
      ],
      "metadata": {
        "id": "RwEKCeJ3tQC8",
        "colab": {
          "base_uri": "https://localhost:8080/"
        },
        "outputId": "7563520d-fdd6-4c37-dee7-28287ceecc50"
      },
      "execution_count": 1,
      "outputs": [
        {
          "output_type": "execute_result",
          "data": {
            "text/plain": [
              "{1: 'Jan',\n",
              " 2: 'Feb',\n",
              " 3: 'Mar',\n",
              " 4: 'Apr',\n",
              " 5: 'May',\n",
              " 6: 'Jun',\n",
              " 7: 'Jul',\n",
              " 8: 'Aug',\n",
              " 9: 'Sep',\n",
              " 10: 'Oct',\n",
              " 11: 'Nov',\n",
              " 12: 'Dec'}"
            ]
          },
          "metadata": {},
          "execution_count": 1
        }
      ]
    },
    {
      "cell_type": "code",
      "source": [
        "def range_check(number, low, high):\n",
        "  if low<= number <= high:\n",
        "    print(f'{number} is in the range between {low} and {high}')\n",
        "  else:\n",
        "    print(f'{number} is NOT in the range betweeen {low} and {high}')\n",
        "\n"
      ],
      "metadata": {
        "id": "4hVfeTQMqJkj"
      },
      "execution_count": 7,
      "outputs": []
    },
    {
      "cell_type": "code",
      "source": [
        "def calcfee(hours):\n",
        "  fee = 5 + hours * 2.5\n",
        "  return fee\n",
        "\n",
        "h = int(input(\"enter hours\"))\n",
        "fee = calcfee(h)\n",
        "print(fee)"
      ],
      "metadata": {
        "colab": {
          "base_uri": "https://localhost:8080/"
        },
        "id": "No1BnLyeqdF_",
        "outputId": "5c11427b-5e69-4573-81e4-83008e86d072"
      },
      "execution_count": 8,
      "outputs": [
        {
          "output_type": "stream",
          "name": "stdout",
          "text": [
            "enter hours2\n",
            "10.0\n"
          ]
        }
      ]
    },
    {
      "cell_type": "code",
      "source": [
        "#Reverse Function\n",
        "def reverse_string(s):\n",
        "    if len(s) <= 1:\n",
        "        return s\n",
        "    else:\n",
        "        return reverse_string(s[1:]) + s[0]\n",
        "\n",
        "print(reverse_string(\"Hello, World!\"))"
      ],
      "metadata": {
        "colab": {
          "base_uri": "https://localhost:8080/"
        },
        "id": "YKYxpkE8qi1c",
        "outputId": "b12efc34-b3a7-47b1-a338-7af079008536"
      },
      "execution_count": 12,
      "outputs": [
        {
          "output_type": "stream",
          "name": "stdout",
          "text": [
            "!dlroW ,olleH\n"
          ]
        }
      ]
    },
    {
      "cell_type": "code",
      "source": [
        "def wAvg(L, w):\n",
        "  try:\n",
        "    res = []\n",
        "    for i in range (len(L)):\n",
        "      res.append(L[i] * w[i])\n",
        "    return sum(res) / sum(w)\n",
        "  except ZeroDivisionError:\n",
        "    print(\"Can't division by Zero.\")\n",
        "    return []\n",
        "  except TypeError:\n",
        "    print(\"Wrong object type. \")\n",
        "    return []\n",
        "  except Exception as e:\n",
        "    print(f\"Unknown Error: {e}\")\n",
        "    return float ('nan')\n",
        "\n",
        "wAvg([1,2,3], [.1,.3,.4])"
      ],
      "metadata": {
        "colab": {
          "base_uri": "https://localhost:8080/"
        },
        "id": "s4LKaE-Fq5VA",
        "outputId": "2b06c651-0c75-464e-de14-165493346a6a"
      },
      "execution_count": 13,
      "outputs": [
        {
          "output_type": "execute_result",
          "data": {
            "text/plain": [
              "2.375"
            ]
          },
          "metadata": {},
          "execution_count": 13
        }
      ]
    },
    {
      "cell_type": "code",
      "source": [
        "#NumericalCalculator\n",
        "print (\"Welcome to the Calculator\")\n",
        "\n",
        "  #Request Inputs\n",
        "num1 = float(input(\"Please input 1 number here: \"))\n",
        "operatorSymbol = (input(\"Please input a mathmatical operation (+, -, *, /, **): \"))\n",
        "num2 = float(input(\"Please input 2 number here: \"))\n",
        "\n",
        "if operatorSymbol == '*':\n",
        "    num1*num2\n",
        "elif operatorSymbol == '/':\n",
        "    num1/num2\n",
        "elif operatorSymbol == '+':\n",
        "    num1+num2\n",
        "elif operatorSymbol == '-':\n",
        "    num1-num2\n",
        "else:\n",
        "  operatorSymbol == '**'\n",
        "  num1**num2\n",
        "\n",
        "print(f'Your calculation equals: {operatorSymbol}')\n"
      ],
      "metadata": {
        "colab": {
          "base_uri": "https://localhost:8080/"
        },
        "id": "U_M7tZXAq73g",
        "outputId": "5a798c21-f38a-43bb-d803-272dc8abd193"
      },
      "execution_count": 14,
      "outputs": [
        {
          "output_type": "stream",
          "name": "stdout",
          "text": [
            "Welcome to the Calculator\n",
            "Please input 1 number here: 1\n",
            "Please input a mathmatical operation (+, -, *, /, **): *\n",
            "Please input 2 number here: 2\n",
            "Your calculation equals: *\n"
          ]
        }
      ]
    },
    {
      "cell_type": "code",
      "source": [
        "#Parking Garage\n",
        "flatRate = 5\n",
        "\n",
        "hourlyRate = 2.5\n",
        "\n",
        "\n",
        "\n",
        "for h in range(1, 9):\n",
        "\n",
        "  charge = flatRate + hourlyRate * h\n",
        "\n",
        "  if charge < 10:\n",
        "\n",
        "    charge = 10\n",
        "\n",
        "  elif charge > 20:\n",
        "\n",
        "    charge = 20\n",
        "\n",
        "  print(h, charge)"
      ],
      "metadata": {
        "colab": {
          "base_uri": "https://localhost:8080/"
        },
        "id": "DQxjc7Y0rMkg",
        "outputId": "8d629db5-f7cd-4e9d-ca68-cc299fc1a5e4"
      },
      "execution_count": 15,
      "outputs": [
        {
          "output_type": "stream",
          "name": "stdout",
          "text": [
            "1 10\n",
            "2 10.0\n",
            "3 12.5\n",
            "4 15.0\n",
            "5 17.5\n",
            "6 20.0\n",
            "7 20\n",
            "8 20\n"
          ]
        }
      ]
    }
  ]
}